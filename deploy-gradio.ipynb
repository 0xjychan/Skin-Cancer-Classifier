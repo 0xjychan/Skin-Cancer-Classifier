{
 "cells": [
  {
   "cell_type": "code",
   "execution_count": 1,
   "metadata": {},
   "outputs": [],
   "source": [
    "import gradio as gr\n",
    "import tensorflow as tf\n",
    "from tensorflow.keras import models"
   ]
  },
  {
   "cell_type": "code",
   "execution_count": 2,
   "metadata": {},
   "outputs": [],
   "source": [
    "def classifier(image):\n",
    "    class_names = ['Benign', 'Malignant']\n",
    "    model = models.load_model('./scar_model1.h5')\n",
    "    image_array = tf.expand_dims(image,0)\n",
    "    predictions = model.predict(image_array).flatten()[0]\n",
    "    label=0\n",
    "\n",
    "    if predictions>=0.5:\n",
    "        label=1\n",
    "    \n",
    "    predicted_class = class_names[label]\n",
    "    predictions = 100*predictions\n",
    "\n",
    "    return predictions, predicted_class"
   ]
  },
  {
   "cell_type": "code",
   "execution_count": 3,
   "metadata": {},
   "outputs": [
    {
     "name": "stdout",
     "output_type": "stream",
     "text": [
      "Running on local URL:  http://127.0.0.1:7861\n",
      "\n",
      "To create a public link, set `share=True` in `launch()`.\n"
     ]
    },
    {
     "data": {
      "text/html": [
       "<div><iframe src=\"http://127.0.0.1:7861/\" width=\"900\" height=\"500\" allow=\"autoplay; camera; microphone; clipboard-read; clipboard-write;\" frameborder=\"0\" allowfullscreen></iframe></div>"
      ],
      "text/plain": [
       "<IPython.core.display.HTML object>"
      ]
     },
     "metadata": {},
     "output_type": "display_data"
    },
    {
     "data": {
      "text/plain": [
       "(<gradio.routes.App at 0x13c5fc9a0>, 'http://127.0.0.1:7861/', None)"
      ]
     },
     "execution_count": 3,
     "metadata": {},
     "output_type": "execute_result"
    },
    {
     "name": "stdout",
     "output_type": "stream",
     "text": [
      "1/1 [==============================] - 1s 1s/step\n"
     ]
    }
   ],
   "source": [
    "prediction_output = gr.Number(label='Confidence(%)', precision=2)\n",
    "class_output = gr.Label(label='Predicted Class')\n",
    "\n",
    "app = gr.Interface(fn=classifier, \n",
    "                   inputs=gr.Image(shape=(256,256), type='numpy'), \n",
    "                   outputs=[prediction_output, class_output],\n",
    "                   interpretation='default',\n",
    "                   title='Skin Cancer Classifier (SCAR)',\n",
    "                   description='Upload an image of skin lesion to see if it''s benign or malignant')\n",
    "app.launch()"
   ]
  },
  {
   "cell_type": "code",
   "execution_count": null,
   "metadata": {},
   "outputs": [],
   "source": []
  }
 ],
 "metadata": {
  "kernelspec": {
   "display_name": "Python 3.8.9 64-bit",
   "language": "python",
   "name": "python3"
  },
  "language_info": {
   "codemirror_mode": {
    "name": "ipython",
    "version": 3
   },
   "file_extension": ".py",
   "mimetype": "text/x-python",
   "name": "python",
   "nbconvert_exporter": "python",
   "pygments_lexer": "ipython3",
   "version": "3.8.9"
  },
  "orig_nbformat": 4,
  "vscode": {
   "interpreter": {
    "hash": "31f2aee4e71d21fbe5cf8b01ff0e069b9275f58929596ceb00d14d90e3e16cd6"
   }
  }
 },
 "nbformat": 4,
 "nbformat_minor": 2
}
